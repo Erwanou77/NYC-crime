{
 "cells": [
  {
   "cell_type": "code",
   "execution_count": 1,
   "id": "daa9e0c4",
   "metadata": {},
   "outputs": [],
   "source": [
    "import torch\n",
    "import torch.nn as nn\n",
    "from torch.utils.data import DataLoader, TensorDataset\n",
    "from sklearn.preprocessing import LabelEncoder, MinMaxScaler\n",
    "import pandas as pd\n",
    "import requests\n",
    "import json"
   ]
  },
  {
   "cell_type": "code",
   "execution_count": 2,
   "id": "657d8919",
   "metadata": {},
   "outputs": [
    {
     "name": "stdout",
     "output_type": "stream",
     "text": [
      "Number of GPUs available: 1\n",
      "\n",
      "GPU 0: NVIDIA GeForce RTX 3050 Ti Laptop GPU\n",
      "  Memory Allocated: 0.00 MB\n",
      "  Memory Cached: 0.00 MB\n"
     ]
    }
   ],
   "source": [
    "torch.cuda.empty_cache()\n",
    "\n",
    "if torch.cuda.is_available():\n",
    "    print(f\"Number of GPUs available: {torch.cuda.device_count()}\")\n",
    "    for i in range(torch.cuda.device_count()):\n",
    "        print(f\"\\nGPU {i}: {torch.cuda.get_device_name(i)}\")\n",
    "        print(f\"  Memory Allocated: {torch.cuda.memory_allocated(i) / 1024**2:.2f} MB\")\n",
    "        print(f\"  Memory Cached: {torch.cuda.memory_reserved(i) / 1024**2:.2f} MB\")\n",
    "else:\n",
    "    print(\"No GPU available. Using CPU.\")"
   ]
  },
  {
   "cell_type": "code",
   "execution_count": 3,
   "id": "fd4a3dab",
   "metadata": {},
   "outputs": [
    {
     "name": "stdout",
     "output_type": "stream",
     "text": [
      "83691\n"
     ]
    }
   ],
   "source": [
    "# L'URL de l'API GraphQL\n",
    "url = \"http://localhost:4000/graphql\"  # Remplace par ton URL GraphQL\n",
    "\n",
    "# Requête GraphQL\n",
    "query = \"\"\"\n",
    "  query {\n",
    "  crimes {\n",
    "    cmplnt_num\n",
    "    addr_pct_cd\n",
    "    boro_nm\n",
    "    cmplnt_fr_dt\n",
    "    cmplnt_fr_tm\n",
    "    cmplnt_to_dt\n",
    "    cmplnt_to_tm\n",
    "    crm_atpt_cptd_cd\n",
    "    jurisdiction_code\n",
    "    juris_desc\n",
    "    ofns_desc\n",
    "    pd_desc\n",
    "    latitude\n",
    "    longitude\n",
    "  }\n",
    "}\n",
    "\"\"\"\n",
    "\n",
    "# Corps de la requête\n",
    "payload = {\n",
    "    'query': query\n",
    "}\n",
    "\n",
    "# En-têtes\n",
    "headers = {\n",
    "    'Content-Type': 'application/json',\n",
    "}\n",
    "\n",
    "# Effectuer la requête POST\n",
    "response = requests.post(url, json=payload, headers=headers)\n",
    "data=[]\n",
    "# Vérifier la réponse\n",
    "if response.status_code == 200:\n",
    "    data_json = response.json()\n",
    "    data=data_json['data']['crimes']\n",
    "    print(len(data))\n",
    "else:\n",
    "    print(f\"Erreur: {response.status_code}\")"
   ]
  },
  {
   "cell_type": "code",
   "execution_count": 4,
   "id": "2f0c8b2b",
   "metadata": {},
   "outputs": [
    {
     "name": "stdout",
     "output_type": "stream",
     "text": [
      "✅ Model loaded to GPU successfully.\n",
      "True\n"
     ]
    }
   ],
   "source": [
    "import torch\n",
    "import torch.nn as nn\n",
    "\n",
    "try:\n",
    "    device = torch.device(\"cuda\")\n",
    "    test_model = nn.Linear(10, 1).to(device)\n",
    "    print(\"✅ Model loaded to GPU successfully.\")\n",
    "except Exception as e:\n",
    "    print(\"❌ Failed to load model on GPU:\", e)\n",
    "print(torch.cuda.is_available())\n"
   ]
  },
  {
   "cell_type": "code",
   "execution_count": 9,
   "id": "9d27d943",
   "metadata": {},
   "outputs": [
    {
     "name": "stderr",
     "output_type": "stream",
     "text": [
      "C:\\Users\\bsaeb\\AppData\\Local\\Temp\\ipykernel_23836\\730376909.py:14: UserWarning: Could not infer format, so each element will be parsed individually, falling back to `dateutil`. To ensure parsing is consistent and as-expected, please specify a format.\n",
      "  df['datetime'] = pd.to_datetime(df['cmplnt_fr_dt'] + ' ' + df['cmplnt_fr_tm'])\n"
     ]
    },
    {
     "name": "stdout",
     "output_type": "stream",
     "text": [
      "Epoch [1/10], Loss: 0.02759128200039035\n",
      "Epoch [2/10], Loss: 1.9075017869920187e-05\n",
      "Epoch [3/10], Loss: 5.396046444657009e-06\n",
      "Epoch [4/10], Loss: 2.1319056397562057e-06\n",
      "Epoch [5/10], Loss: 1.116885322700933e-06\n",
      "Epoch [6/10], Loss: 5.921287712546922e-07\n",
      "Epoch [7/10], Loss: 3.3376372216467993e-07\n",
      "Epoch [8/10], Loss: 4.205205944835504e-07\n",
      "Epoch [9/10], Loss: 4.978107331499137e-07\n",
      "Epoch [10/10], Loss: 4.911197669232055e-07\n"
     ]
    }
   ],
   "source": [
    "df = pd.DataFrame(data)\n",
    "\n",
    "# Remove rows with clearly invalid dates (e.g., before 2000 or after 2100)\n",
    "def is_valid_date(row):\n",
    "    try:\n",
    "        dt = pd.to_datetime(row['cmplnt_fr_dt'] + ' ' + row['cmplnt_fr_tm'], errors='raise')\n",
    "        return 2000 <= dt.year <= 2100\n",
    "    except:\n",
    "        return False\n",
    "\n",
    "df = df[df.apply(is_valid_date, axis=1)].copy()\n",
    "\n",
    "# Now safely parse the datetime\n",
    "df['datetime'] = pd.to_datetime(df['cmplnt_fr_dt'] + ' ' + df['cmplnt_fr_tm'])\n",
    "\n",
    "# Extract time-based features\n",
    "df['hour'] = df['datetime'].dt.hour\n",
    "df['day_of_week'] = df['datetime'].dt.weekday\n",
    "df['day_of_month'] = df['datetime'].dt.day\n",
    "df['month'] = df['datetime'].dt.month\n",
    "\n",
    "# Normalize time features\n",
    "scaler = MinMaxScaler()\n",
    "time_features = ['hour', 'day_of_week', 'day_of_month', 'month']\n",
    "df[time_features] = scaler.fit_transform(df[time_features])\n",
    "\n",
    "# Create tensors\n",
    "X = torch.tensor(df[time_features].values, dtype=torch.float32)\n",
    "y = torch.tensor([[1.0]] * len(df), dtype=torch.float32)  # Placeholder target\n",
    "\n",
    "# Dataset and DataLoader\n",
    "dataset = TensorDataset(X, y)\n",
    "loader = DataLoader(dataset, batch_size=64, shuffle=True)\n",
    "\n",
    "# Model\n",
    "class CrimePredictor(nn.Module):\n",
    "    def __init__(self, input_dim):\n",
    "        super(CrimePredictor, self).__init__()\n",
    "        self.model = nn.Sequential(\n",
    "            nn.Linear(input_dim, 32),\n",
    "            nn.ReLU(),\n",
    "            nn.Linear(32, 16),\n",
    "            nn.ReLU(),\n",
    "            nn.Linear(16, 1)\n",
    "        )\n",
    "\n",
    "    def forward(self, x):\n",
    "        return self.model(x)\n",
    "\n",
    "# Training setup\n",
    "device = torch.device(\"cuda\" if torch.cuda.is_available() else \"cpu\")\n",
    "model = CrimePredictor(X.shape[1]).to(device)\n",
    "criterion = nn.MSELoss()\n",
    "optimizer = torch.optim.Adam(model.parameters(), lr=0.001)\n",
    "\n",
    "# Training loop\n",
    "num_epochs = 10\n",
    "for epoch in range(num_epochs):\n",
    "    model.train()\n",
    "    running_loss = 0.0\n",
    "    for xb, yb in loader:\n",
    "        xb, yb = xb.to(device), yb.to(device)\n",
    "\n",
    "        optimizer.zero_grad()\n",
    "        preds = model(xb)\n",
    "        loss = criterion(preds, yb)\n",
    "        loss.backward()\n",
    "        optimizer.step()\n",
    "\n",
    "        running_loss += loss.item()\n",
    "\n",
    "    print(f\"Epoch [{epoch+1}/{num_epochs}], Loss: {running_loss / len(loader)}\")"
   ]
  },
  {
   "cell_type": "code",
   "execution_count": null,
   "id": "80b79abf",
   "metadata": {},
   "outputs": [],
   "source": [
    "import joblib\n",
    "# Save the scaler\n",
    "joblib.dump(scaler, \"./model/scaler.pkl\")\n",
    "\n",
    "torch.save(model, \"./model/crime_predictor_full.pth\")\n"
   ]
  },
  {
   "cell_type": "code",
   "execution_count": 11,
   "id": "a0836ba0",
   "metadata": {},
   "outputs": [
    {
     "name": "stderr",
     "output_type": "stream",
     "text": [
      "C:\\Users\\bsaeb\\AppData\\Local\\Temp\\ipykernel_23836\\1761894056.py:1: FutureWarning: You are using `torch.load` with `weights_only=False` (the current default value), which uses the default pickle module implicitly. It is possible to construct malicious pickle data which will execute arbitrary code during unpickling (See https://github.com/pytorch/pytorch/blob/main/SECURITY.md#untrusted-models for more details). In a future release, the default value for `weights_only` will be flipped to `True`. This limits the functions that could be executed during unpickling. Arbitrary objects will no longer be allowed to be loaded via this mode unless they are explicitly allowlisted by the user via `torch.serialization.add_safe_globals`. We recommend you start setting `weights_only=True` for any use case where you don't have full control of the loaded file. Please open an issue on GitHub for any issues related to this experimental feature.\n",
      "  model = torch.load(\"./model/crime_predictor_full.pth\", map_location=device)\n"
     ]
    },
    {
     "data": {
      "text/plain": [
       "CrimePredictor(\n",
       "  (model): Sequential(\n",
       "    (0): Linear(in_features=4, out_features=32, bias=True)\n",
       "    (1): ReLU()\n",
       "    (2): Linear(in_features=32, out_features=16, bias=True)\n",
       "    (3): ReLU()\n",
       "    (4): Linear(in_features=16, out_features=1, bias=True)\n",
       "  )\n",
       ")"
      ]
     },
     "execution_count": 11,
     "metadata": {},
     "output_type": "execute_result"
    }
   ],
   "source": [
    "model = torch.load(\"./model/crime_predictor_full.pth\", map_location=device)\n",
    "model.eval()\n"
   ]
  }
 ],
 "metadata": {
  "kernelspec": {
   "display_name": "Python 3",
   "language": "python",
   "name": "python3"
  },
  "language_info": {
   "codemirror_mode": {
    "name": "ipython",
    "version": 3
   },
   "file_extension": ".py",
   "mimetype": "text/x-python",
   "name": "python",
   "nbconvert_exporter": "python",
   "pygments_lexer": "ipython3",
   "version": "3.12.10"
  }
 },
 "nbformat": 4,
 "nbformat_minor": 5
}
